{
  "cells": [
    {
      "cell_type": "code",
      "execution_count": 1,
      "metadata": {
        "id": "BcWXEQI7Ws2l"
      },
      "outputs": [],
      "source": [
        "import os\n",
        "import importlib\n",
        "\n",
        "import chess\n",
        "import chess.svg\n",
        "from jax import random as jrandom\n",
        "import jax\n",
        "import jax.nn as jnn\n",
        "import jax.numpy as jnp\n",
        "import numpy as np\n",
        "import matplotlib.pyplot as plt\n",
        "\n",
        "from matplotlib import colors\n",
        "from matplotlib import gridspec\n",
        "import pickle\n",
        "import json\n",
        "import gc\n",
        "\n",
        "\n",
        "#os.chdir(\"/mnt/homeGPU/jorgelerre/S-ChessFormer\")"
      ]
    },
    {
      "cell_type": "code",
      "execution_count": 2,
      "metadata": {
        "id": "oUuSZBYyWvbf"
      },
      "outputs": [
        {
          "name": "stderr",
          "output_type": "stream",
          "text": [
            "Failed to import GCSFileSystem; loading of this filesystem will be skipped. Error details: cannot import name 'storage' from 'google.cloud' (unknown location)\n"
          ]
        }
      ],
      "source": [
        "from searchless_chess.src import transformer_xai\n",
        "importlib.reload(transformer_xai)\n",
        "from searchless_chess.src import tokenizer\n",
        "from searchless_chess.src import training_utils\n",
        "from searchless_chess.src import utils\n",
        "from searchless_chess.src.engines import engine\n",
        "from searchless_chess.src.engines import neural_engines\n",
        "import searchless_chess.src.engines.constants as constants"
      ]
    },
    {
      "cell_type": "code",
      "execution_count": null,
      "metadata": {
        "id": "s8w6FnstXMr4"
      },
      "outputs": [],
      "source": [
        "# @title Create the predictor (9M)\n",
        "policy = 'action_value'\n",
        "num_return_buckets = 128\n",
        "num_heads = 8\n",
        "num_layers = 8\n",
        "embedding_dim = 256\n",
        "\n",
        "output_size = num_return_buckets\n",
        "predictor_config = transformer_xai.TransformerConfig(\n",
        "    vocab_size=utils.NUM_ACTIONS,\n",
        "    output_size=output_size,\n",
        "    pos_encodings=transformer_xai.PositionalEncodings.LEARNED,\n",
        "    max_sequence_length=tokenizer.SEQUENCE_LENGTH + 2,\n",
        "    num_heads=num_heads,\n",
        "    num_layers=num_layers,\n",
        "    embedding_dim=embedding_dim,\n",
        "    apply_post_ln=True,\n",
        "    apply_qk_layernorm=False,\n",
        "    use_causal_mask=False,\n",
        ")\n",
        "\n",
        "predictor = transformer_xai.build_transformer_predictor(config=predictor_config)"
      ]
    },
    {
      "cell_type": "code",
      "execution_count": 4,
      "metadata": {
        "id": "BZugSBZLXJxn"
      },
      "outputs": [
        {
          "name": "stderr",
          "output_type": "stream",
          "text": [
            "WARNING:2025-06-05 12:26:44,588:jax._src.xla_bridge:909: An NVIDIA GPU may be present on this machine, but a CUDA-enabled jaxlib is not installed. Falling back to cpu.\n",
            "WARNING:jax._src.xla_bridge:An NVIDIA GPU may be present on this machine, but a CUDA-enabled jaxlib is not installed. Falling back to cpu.\n",
            "WARNING:absl:[process=0][thread=MainThread] No metadata found for any process_index, checkpoint_dir=/mnt/homeGPU/jorgelerre/S-ChessFormer/searchless_chess/checkpoints/9M/6400000/params_ema. time elapsed=0.006105661392211914 seconds. If the checkpoint does not contain jax.Array then it is expected. If checkpoint contains jax.Array then it should lead to an error eventually; if no error is raised then it is a bug.\n"
          ]
        }
      ],
      "source": [
        "# @title Load the predictor parameters\n",
        "os.chdir(\"/mnt/homeGPU/jorgelerre/S-ChessFormer\")\n",
        "checkpoint_dir = os.path.join(\n",
        "    os.getcwd(),\n",
        "    f'searchless_chess/checkpoints/9M',\n",
        ")\n",
        "dummy_params = predictor.initial_params(\n",
        "    rng=jrandom.PRNGKey(6400000),\n",
        "    targets=np.zeros((1, 1), dtype=np.uint32),\n",
        ")\n",
        "params = training_utils.load_parameters(\n",
        "    checkpoint_dir=checkpoint_dir,\n",
        "    params=dummy_params,\n",
        "    use_ema_params=True,\n",
        "    step=-1,\n",
        ")"
      ]
    },
    {
      "cell_type": "code",
      "execution_count": null,
      "metadata": {},
      "outputs": [],
      "source": [
        "# @title Create the engine\n",
        "batch_size = 1\n",
        "jitted_predict_fn = jax.jit(predictor.predict)\n",
        "\n",
        "def fixed_predict_fn(sequences: np.ndarray) -> np.ndarray:\n",
        "    \"\"\"Wrapper around the predictor `predict` function.\"\"\"\n",
        "    assert sequences.shape[0] == batch_size\n",
        "    return jitted_predict_fn(\n",
        "        params=params,\n",
        "        targets=sequences,\n",
        "        rng=None,\n",
        "    )\n",
        "\n",
        "def predict_fn(sequences: np.ndarray) -> np.ndarray:\n",
        "    \"\"\"Wrapper to collate batches of sequences of fixed size.\"\"\"\n",
        "    remainder = -len(sequences) % batch_size\n",
        "    padded = np.pad(sequences, ((0, remainder), (0, 0)))\n",
        "    sequences_split = np.split(padded, len(padded) // batch_size)\n",
        "    all_outputs = []\n",
        "    for sub_sequences in sequences_split:\n",
        "        all_outputs.append(fixed_predict_fn(sub_sequences))\n",
        "    return all_outputs #outputs[: len(sequences)]  # Crop the padded sequences.\n"
      ]
    },
    {
      "cell_type": "markdown",
      "metadata": {},
      "source": [
        "- Visualizar capas de atención \n",
        "- Heatmaps sobre el tablero\n",
        "- Integrated Gradients\n",
        "- SHAP\n",
        "- Probing"
      ]
    },
    {
      "cell_type": "markdown",
      "metadata": {},
      "source": [
        "## Visualización de pesos"
      ]
    },
    {
      "cell_type": "code",
      "execution_count": 6,
      "metadata": {},
      "outputs": [
        {
          "name": "stdout",
          "output_type": "stream",
          "text": [
            "Parametros de 9M:\n",
            "dict_keys(['embed', 'embed_1', 'layer_norm', 'layer_norm_1', 'layer_norm_10', 'layer_norm_11', 'layer_norm_12', 'layer_norm_13', 'layer_norm_14', 'layer_norm_15', 'layer_norm_16', 'layer_norm_2', 'layer_norm_3', 'layer_norm_4', 'layer_norm_5', 'layer_norm_6', 'layer_norm_7', 'layer_norm_8', 'layer_norm_9', 'linear', 'linear_1', 'linear_10', 'linear_11', 'linear_12', 'linear_13', 'linear_14', 'linear_15', 'linear_16', 'linear_17', 'linear_18', 'linear_19', 'linear_2', 'linear_20', 'linear_21', 'linear_22', 'linear_23', 'linear_24', 'linear_3', 'linear_4', 'linear_5', 'linear_6', 'linear_7', 'linear_8', 'linear_9', 'multi_head_dot_product_attention/linear', 'multi_head_dot_product_attention/linear_1', 'multi_head_dot_product_attention/linear_2', 'multi_head_dot_product_attention/linear_3', 'multi_head_dot_product_attention_1/linear', 'multi_head_dot_product_attention_1/linear_1', 'multi_head_dot_product_attention_1/linear_2', 'multi_head_dot_product_attention_1/linear_3', 'multi_head_dot_product_attention_2/linear', 'multi_head_dot_product_attention_2/linear_1', 'multi_head_dot_product_attention_2/linear_2', 'multi_head_dot_product_attention_2/linear_3', 'multi_head_dot_product_attention_3/linear', 'multi_head_dot_product_attention_3/linear_1', 'multi_head_dot_product_attention_3/linear_2', 'multi_head_dot_product_attention_3/linear_3', 'multi_head_dot_product_attention_4/linear', 'multi_head_dot_product_attention_4/linear_1', 'multi_head_dot_product_attention_4/linear_2', 'multi_head_dot_product_attention_4/linear_3', 'multi_head_dot_product_attention_5/linear', 'multi_head_dot_product_attention_5/linear_1', 'multi_head_dot_product_attention_5/linear_2', 'multi_head_dot_product_attention_5/linear_3', 'multi_head_dot_product_attention_6/linear', 'multi_head_dot_product_attention_6/linear_1', 'multi_head_dot_product_attention_6/linear_2', 'multi_head_dot_product_attention_6/linear_3', 'multi_head_dot_product_attention_7/linear', 'multi_head_dot_product_attention_7/linear_1', 'multi_head_dot_product_attention_7/linear_2', 'multi_head_dot_product_attention_7/linear_3'])\n",
            "embed:\n",
            "dict_keys(['embeddings'])\n",
            "(1968, 256)\n",
            "embed posicional:\n",
            "dict_keys(['embeddings'])\n",
            "(79, 256)\n",
            "layer_norm:\n",
            "dict_keys(['offset', 'scale'])\n",
            "(256,)\n",
            "(256,)\n",
            "linear:\n",
            "dict_keys(['w'])\n",
            "(256, 1024)\n",
            "multi_head_dot_product_attention/linear\n",
            "dict_keys(['w'])\n",
            "(256, 256)\n"
          ]
        }
      ],
      "source": [
        "print('Parametros de 9M:')\n",
        "print(params.keys())\n",
        "print('embed:')\n",
        "print(params['embed'].keys())\n",
        "print(params['embed']['embeddings'].shape)\n",
        "print('embed posicional:')\n",
        "print(params['embed_1'].keys())\n",
        "print(params['embed_1']['embeddings'].shape)\n",
        "print('layer_norm:')\n",
        "print(params['layer_norm'].keys())\n",
        "print(params['layer_norm']['offset'].shape)\n",
        "print(params['layer_norm']['scale'].shape)\n",
        "print('linear:')\n",
        "print(params['linear'].keys())\n",
        "print(params['linear']['w'].shape)\n",
        "print('multi_head_dot_product_attention/linear')\n",
        "print(params['multi_head_dot_product_attention/linear'].keys())\n",
        "print(params['multi_head_dot_product_attention/linear']['w'].shape)"
      ]
    },
    {
      "cell_type": "markdown",
      "metadata": {},
      "source": [
        "### Embeddings"
      ]
    },
    {
      "cell_type": "markdown",
      "metadata": {},
      "source": [
        "#### Posicional"
      ]
    },
    {
      "cell_type": "code",
      "execution_count": null,
      "metadata": {},
      "outputs": [],
      "source": [
        "pos_labels = ['<start>',\n",
        "            'a8', 'b8', 'c8', 'd8', 'e8', 'f8', 'g8', 'h8',\n",
        "            'a7', 'b7', 'c7', 'd7', 'e7', 'f7', 'g7', 'h7',\n",
        "            'a6', 'b6', 'c6', 'd6', 'e6', 'f6', 'g6', 'h6',\n",
        "            'a5', 'b5', 'c5', 'd5', 'e5', 'f5', 'g5', 'h5',\n",
        "            'a4', 'b4', 'c4', 'd4', 'e4', 'f4', 'g4', 'h4',\n",
        "            'a3', 'b3', 'c3', 'd3', 'e3', 'f3', 'g3', 'h3',\n",
        "            'a2', 'b2', 'c2', 'd2', 'e2', 'f2', 'g2', 'h2',\n",
        "            'a1', 'b1', 'c1', 'd1', 'e1', 'f1', 'g1', 'h1',\n",
        "            '<turn>', \n",
        "            '<castling_1>', '<castling_2>', '<castling_3>', 'castling_4>',\n",
        "            '<en_passant_letter>','<en_passant_number>',\n",
        "            '<halfmove_1>', '<halfmove_2>', '<halfmove_3>',\n",
        "            '<fullmove_1>', '<fullmove_2>', '<fullmove_3>', \n",
        "            'move']\n",
        "len(pos_labels)"
      ]
    },
    {
      "cell_type": "code",
      "execution_count": null,
      "metadata": {},
      "outputs": [],
      "source": [
        "plt.figure(figsize=(12, 10))\n",
        "plt.imshow(params['embed_1']['embeddings'], aspect='auto', cmap='viridis') \n",
        "plt.colorbar(label='Valor')\n",
        "plt.title('Embedding posicional de la entrada')\n",
        "plt.xlabel('Embedding')\n",
        "plt.ylabel('Posiciones')\n",
        "\n",
        "yticks = np.arange(len(pos_labels))\n",
        "yticklabels = pos_labels\n",
        "plt.yticks(ticks=yticks, labels=yticklabels)\n",
        "\n",
        "plt.tight_layout()\n",
        "plt.show()"
      ]
    },
    {
      "cell_type": "code",
      "execution_count": null,
      "metadata": {},
      "outputs": [],
      "source": [
        "# Calcular la distancia entre los embeddings de cada token\n",
        "\n",
        "data = params['embed_1']['embeddings']\n",
        "distances_pos_embedding = np.zeros((data.shape[0], data.shape[0]))\n",
        "\n",
        "for i in range(data.shape[0]):\n",
        "    if i % 10 == 0:\n",
        "        print(i)\n",
        "    for j in range(i+1, data.shape[0]):\n",
        "        distances_pos_embedding[i,j] = np.linalg.norm(data[i] - data[j])\n",
        "        \n",
        "for i in range(data.shape[0]):\n",
        "    for j in range(i+1):\n",
        "        distances_pos_embedding[i,j] = distances_pos_embedding[j,i]\n",
        "#np.save('distances_between_pos_embeddings.npy', distances_pos_embedding)"
      ]
    },
    {
      "cell_type": "code",
      "execution_count": null,
      "metadata": {},
      "outputs": [],
      "source": [
        "# Crear el mapa de calor con las distancias entre embeddings\n",
        "plt.figure(figsize=(12, 12))\n",
        "plt.imshow(distances_pos_embedding, aspect='auto', cmap='viridis')  \n",
        "plt.colorbar(label='Valor')\n",
        "plt.title('Distancias entre embeddings de posición')\n",
        "plt.xlabel('Eje X')\n",
        "plt.ylabel('Eje Y')\n",
        "\n",
        "yticks = np.arange(len(pos_labels))\n",
        "yticklabels = pos_labels\n",
        "plt.yticks(ticks=yticks, labels=yticklabels)\n",
        "\n",
        "plt.tight_layout()\n",
        "plt.show()"
      ]
    },
    {
      "cell_type": "code",
      "execution_count": null,
      "metadata": {},
      "outputs": [],
      "source": [
        "pos_ini = 2\n",
        "pos_fin = 66\n",
        "distancias_tablero = distances_pos_embedding[pos_ini:pos_fin,pos_ini:pos_fin]\n",
        "\n",
        "# Crear figura con 8x8 subplots\n",
        "fig, axes = plt.subplots(8, 8, figsize=(12, 12))\n",
        "\n",
        "# Iterar sobre cada bloque 8x8\n",
        "for i in range(8):\n",
        "    for j in range(8):\n",
        "        pos_actual = i*8 + j\n",
        "        block = distancias_tablero[i*8 + j].reshape(8, 8)\n",
        "        ax = axes[i, j]\n",
        "        im = ax.imshow(block, cmap='viridis')\n",
        "        ax.axis('off')\n",
        "        \n",
        "\n",
        "plt.tight_layout()\n",
        "plt.show()"
      ]
    },
    {
      "cell_type": "markdown",
      "metadata": {},
      "source": [
        "#### Vocabulario"
      ]
    },
    {
      "cell_type": "code",
      "execution_count": null,
      "metadata": {},
      "outputs": [],
      "source": [
        "# Creamos un diccionario para saber qué significa cada token\n",
        "from collections import defaultdict\n",
        "\n",
        "y_labels_dict = defaultdict(list)\n",
        "\n",
        "for i in range(len(utils.ACTION_TO_MOVE.items())):\n",
        "    y_labels_dict[i] = [str(i)]\n",
        "    \n",
        "# Mezclamos el primer diccionario\n",
        "for v, k in tokenizer._CHARACTERS_INDEX.items():\n",
        "    y_labels_dict[k].append(v)\n",
        "    \n",
        "# Mezclamos el segundo diccionario (invertido del tokenizer)\n",
        "for k, v in utils.ACTION_TO_MOVE.items():\n",
        "    y_labels_dict[k].append(v)\n",
        "\n",
        "# Convertimos de nuevo a un diccionario normal (opcional)\n",
        "y_labels_dict = {k: '/'.join(v) for k, v in y_labels_dict.items()}\n",
        "\n",
        "print(y_labels_dict)"
      ]
    },
    {
      "cell_type": "code",
      "execution_count": null,
      "metadata": {},
      "outputs": [],
      "source": [
        "# Graficamos los embeddings de los tokens\n",
        "num_rows = 50\n",
        "\n",
        "plt.figure(figsize=(24, 24))\n",
        "plt.imshow(params['embed']['embeddings'][:num_rows, :], aspect='auto', cmap='viridis')\n",
        "plt.colorbar(label='Valor')\n",
        "plt.title('Embedding del vocabulario')\n",
        "plt.xlabel('Eje X')\n",
        "plt.ylabel('Eje Y')\n",
        "\n",
        "# Asignar etiquetas al eje Y\n",
        "yticks = list(y_labels_dict.keys())[:num_rows]\n",
        "yticklabels = list(y_labels_dict.values())[:num_rows]\n",
        "plt.yticks(ticks=yticks, labels=yticklabels)\n",
        "\n",
        "plt.tight_layout()\n",
        "plt.show()"
      ]
    },
    {
      "cell_type": "code",
      "execution_count": null,
      "metadata": {},
      "outputs": [],
      "source": [
        "# Crear un array de ejemplo de tamaño 79x256\n",
        "data = params['embed']['embeddings'][:256,:]\n",
        "\n",
        "# Crear el mapa de calor\n",
        "plt.figure(figsize=(12, 12))\n",
        "plt.imshow(data, aspect='auto', cmap='viridis')  # Puedes usar otros cmap como 'plasma', 'hot', 'coolwarm'\n",
        "plt.colorbar(label='Valor')\n",
        "plt.title('Embedding del vocabulario')\n",
        "plt.xlabel('Eje X')\n",
        "plt.ylabel('Eje Y')\n",
        "plt.tight_layout()\n",
        "plt.show()"
      ]
    },
    {
      "cell_type": "code",
      "execution_count": null,
      "metadata": {},
      "outputs": [],
      "source": [
        "# IDEA: Extraer solo embeddings de piezas o posiciones y ver si tienen características en común\n",
        "# En qué se diferencian los embeddings de la misma pieza según el color?"
      ]
    },
    {
      "cell_type": "code",
      "execution_count": null,
      "metadata": {},
      "outputs": [],
      "source": [
        "print(params['embed']['embeddings'].shape)"
      ]
    },
    {
      "cell_type": "code",
      "execution_count": null,
      "metadata": {},
      "outputs": [],
      "source": [
        "# Calcular la distancia entre los embeddings de cada token\n",
        "\"\"\"\n",
        "data = params['embed']['embeddings']\n",
        "distances = np.zeros((data.shape[0], data.shape[0]))\n",
        "\n",
        "for i in range(data.shape[0]):\n",
        "    if i % 10 == 0:\n",
        "        print(i)\n",
        "    for j in range(i+1, data.shape[0]):\n",
        "        distances[i,j] = np.linalg.norm(data[i] - data[j])\n",
        "        \n",
        "for i in range(data.shape[0]):\n",
        "    for j in range(i+1):\n",
        "        distances[i,j] = distances[j,i]\n",
        "np.save('distances_between_token_embeddings.npy', distances)\n",
        "\"\"\""
      ]
    },
    {
      "cell_type": "code",
      "execution_count": null,
      "metadata": {},
      "outputs": [],
      "source": [
        "distances = np.load('distances_between_token_embeddings.npy')\n",
        "distances.shape"
      ]
    },
    {
      "cell_type": "code",
      "execution_count": null,
      "metadata": {},
      "outputs": [],
      "source": [
        "# Seleccionamos las posiciones donde estan las piezas\n",
        "pos_b = 11\n",
        "pos_ini_piezas = 19\n",
        "pos_fin_piezas = 29\n",
        "pos_point = 30\n",
        "\n",
        "is_pieza = np.zeros((distances.shape[0],), dtype=bool)\n",
        "is_pieza[pos_b] = 1\n",
        "is_pieza[pos_ini_piezas:pos_fin_piezas] = 1\n",
        "is_pieza[pos_point] = 1\n",
        "print(is_pieza)\n",
        "\n",
        "distances_piezas = distances[np.ix_(is_pieza, is_pieza)]\n",
        "\n",
        "\n",
        "# Crear el mapa de calor con las distancias entre embeddings\n",
        "plt.figure(figsize=(12, 12))\n",
        "plt.imshow(distances_piezas, aspect='auto', cmap='viridis') \n",
        "plt.colorbar(label='Valor')\n",
        "plt.title('Distancias entre embeddings de piezas')\n",
        "plt.xlabel('Eje X')\n",
        "plt.ylabel('Eje Y')\n",
        "\n",
        "# Asignar etiquetas a los ejes\n",
        "ticklabels = [y_labels_dict[k] for k in np.argwhere(is_pieza == 1).flatten()]\n",
        "ticks = np.arange(len(ticklabels))\n",
        "print(ticklabels)\n",
        "plt.xticks(ticks=ticks, labels=ticklabels)\n",
        "plt.yticks(ticks=ticks, labels=ticklabels)\n",
        "\n",
        "plt.tight_layout()\n",
        "plt.show()"
      ]
    },
    {
      "cell_type": "code",
      "execution_count": null,
      "metadata": {},
      "outputs": [],
      "source": [
        "fila_inicial = 0\n",
        "fila_final = 50\n",
        "# Crear el mapa de calor con las distancias entre embeddings\n",
        "plt.figure(figsize=(12, 12))\n",
        "plt.imshow(distances[fila_inicial:fila_final,fila_inicial:fila_final], aspect='auto', cmap='viridis')  # Puedes usar otros cmap como 'plasma', 'hot', 'coolwarm'\n",
        "plt.colorbar(label='Valor')\n",
        "plt.title('Distancias entre embeddings de diferente tipo')\n",
        "plt.xlabel('Eje X')\n",
        "plt.ylabel('Eje Y')\n",
        "\n",
        "# Asignar etiquetas a los ejes\n",
        "ticks = list(range(fila_final-fila_inicial))\n",
        "ticklabels = list(y_labels_dict.values())[fila_inicial:fila_final]\n",
        "plt.xticks(ticks=ticks, labels=ticklabels)\n",
        "plt.yticks(ticks=ticks, labels=ticklabels)\n",
        "\n",
        "\n",
        "plt.tight_layout()\n",
        "plt.show()"
      ]
    },
    {
      "cell_type": "code",
      "execution_count": null,
      "metadata": {},
      "outputs": [],
      "source": [
        "fila_inicial = 0\n",
        "fila_final = 400\n",
        "# Crear el mapa de calor con las distancias entre embeddings\n",
        "plt.figure(figsize=(12, 12))\n",
        "plt.imshow(distances[fila_inicial:fila_final,fila_inicial:fila_final], aspect='auto', cmap='viridis')  # Puedes usar otros cmap como 'plasma', 'hot', 'coolwarm'\n",
        "plt.colorbar(label='Valor')\n",
        "plt.title('Distancias entre embeddings de piezas')\n",
        "plt.xlabel('Eje X')\n",
        "plt.ylabel('Eje Y')\n",
        "\n",
        "# Asignar etiquetas a los ejes\n",
        "ticks = list(range(fila_final-fila_inicial))\n",
        "ticklabels = list(y_labels_dict.values())[fila_inicial:fila_final]\n",
        "plt.xticks(ticks=ticks, labels=ticklabels)\n",
        "plt.yticks(ticks=ticks, labels=ticklabels)\n",
        "\n",
        "\n",
        "plt.tight_layout()\n",
        "plt.show()"
      ]
    },
    {
      "cell_type": "code",
      "execution_count": null,
      "metadata": {},
      "outputs": [],
      "source": [
        "fila_inicial = 0\n",
        "fila_final = 400\n",
        "# Crear el mapa de calor con las distancias entre embeddings\n",
        "plt.figure(figsize=(12, 12))\n",
        "plt.imshow(distances[fila_inicial:fila_final,fila_inicial:fila_final], aspect='auto', cmap='viridis')  # Puedes usar otros cmap como 'plasma', 'hot', 'coolwarm'\n",
        "plt.colorbar(label='Valor')\n",
        "plt.title('Distancias entre embeddings de piezas')\n",
        "plt.xlabel('Eje X')\n",
        "plt.ylabel('Eje Y')\n",
        "\n",
        "# Asignar etiquetas a los ejes\n",
        "ticks = list(range(fila_final-fila_inicial))\n",
        "ticklabels = list(y_labels_dict.values())[fila_inicial:fila_final]\n",
        "plt.xticks(ticks=ticks, labels=ticklabels)\n",
        "plt.yticks(ticks=ticks, labels=ticklabels)\n",
        "\n",
        "\n",
        "plt.tight_layout()\n",
        "plt.show()"
      ]
    },
    {
      "cell_type": "code",
      "execution_count": null,
      "metadata": {},
      "outputs": [],
      "source": [
        "# Crear el mapa de calor con las distancias entre embeddings\n",
        "plt.figure(figsize=(30, 30))\n",
        "plt.imshow(distances, aspect='auto', cmap='viridis')  # Puedes usar otros cmap como 'plasma', 'hot', 'coolwarm'\n",
        "plt.colorbar(label='Valor')\n",
        "plt.title('Distancias entre embeddings de piezas')\n",
        "plt.xlabel('Eje X')\n",
        "plt.ylabel('Eje Y')\n",
        "\n",
        "# Asignar etiquetas a los ejes\n",
        "ticks = np.arange(len(distances))\n",
        "ticklabels = list(y_labels_dict.values())\n",
        "plt.xticks(ticks=ticks, labels=ticklabels)\n",
        "plt.yticks(ticks=ticks, labels=ticklabels)\n",
        "\n",
        "\n",
        "plt.tight_layout()\n",
        "plt.show()"
      ]
    },
    {
      "cell_type": "code",
      "execution_count": null,
      "metadata": {},
      "outputs": [],
      "source": [
        "fila_inicial = 0\n",
        "fila_final = 100\n",
        "# Crear el mapa de calor con las distancias entre embeddings\n",
        "plt.figure(figsize=(12, 12))\n",
        "plt.imshow(distances[fila_inicial:fila_final,fila_inicial:fila_final], aspect='auto', cmap='viridis')  # Puedes usar otros cmap como 'plasma', 'hot', 'coolwarm'\n",
        "plt.colorbar(label='Valor')\n",
        "plt.title('Distancias entre embeddings de piezas')\n",
        "plt.xlabel('Eje X')\n",
        "plt.ylabel('Eje Y')\n",
        "\n",
        "# Asignar etiquetas a los ejes\n",
        "ticks = list(range(fila_final-fila_inicial))\n",
        "ticklabels = list(y_labels_dict.values())[fila_inicial:fila_final]\n",
        "plt.xticks(ticks=ticks, labels=ticklabels)\n",
        "plt.yticks(ticks=ticks, labels=ticklabels)\n",
        "\n",
        "\n",
        "plt.tight_layout()\n",
        "plt.show()"
      ]
    },
    {
      "cell_type": "code",
      "execution_count": null,
      "metadata": {},
      "outputs": [],
      "source": [
        "\"\"\"\n",
        "# Obtenemos los logits y graficamos los mapas de atención\n",
        "for result, move in zip(results, engine.get_ordered_legal_moves(board)):\n",
        "    print('Jugada:', move)\n",
        "    logits, attention_maps = result\n",
        "    print('logits:', logits.shape)\n",
        "    print('logits:', logits)\n",
        "    plot_attention_maps(attention_maps, token_labels=token_labels, save_path=f'xai/experiment1/79x79/attention_maps_{move}.png')\n",
        "\"\"\""
      ]
    },
    {
      "cell_type": "code",
      "execution_count": null,
      "metadata": {},
      "outputs": [],
      "source": [
        "\"\"\"\n",
        "# Obtenemos los logits y graficamos los mapas de atención\n",
        "os.makedirs(f'xai/experiment1/reordered_by_row', exist_ok=True)\n",
        "os.makedirs(f'xai/experiment1/reordered_by_col', exist_ok=True)\n",
        "for result, move in zip(results, engine.get_ordered_legal_moves(board)):\n",
        "    for by_row in [True, False]:\n",
        "        print('Jugada:', move)\n",
        "        logits, attention_maps = result\n",
        "        attention_maps = np.array(attention_maps).reshape(num_layers, num_heads, 79, 79)\n",
        "        #print('logits:', logits.shape)\n",
        "        print('logits:', logits)\n",
        "        plot_all_attention_heads(attention_maps, token_labels=token_labels, by_row=by_row,\n",
        "                            save_path=f'xai/experiment1/reordered_{\"by_row\" if by_row else \"by_col\"}/attention_maps_{move}.png')\n",
        "\"\"\""
      ]
    },
    {
      "cell_type": "code",
      "execution_count": null,
      "metadata": {},
      "outputs": [],
      "source": [
        "# Guardamos los resultados en disco\n",
        "\"\"\"\n",
        "with open('xai/experiment1/results.pkl', 'wb') as f:\n",
        "    pickle.dump(results, f)\n",
        "\"\"\""
      ]
    },
    {
      "cell_type": "code",
      "execution_count": null,
      "metadata": {},
      "outputs": [],
      "source": []
    },
    {
      "cell_type": "markdown",
      "metadata": {},
      "source": [
        "# Atención"
      ]
    },
    {
      "cell_type": "markdown",
      "metadata": {},
      "source": [
        "## Funciones comunes"
      ]
    },
    {
      "cell_type": "code",
      "execution_count": 6,
      "metadata": {},
      "outputs": [],
      "source": [
        "token_labels = ['<start>', '<turn>',\n",
        "                'a8', 'b8', 'c8', 'd8', 'e8', 'f8', 'g8', 'h8',\n",
        "                'a7', 'b7', 'c7', 'd7', 'e7', 'f7', 'g7', 'h7',\n",
        "                'a6', 'b6', 'c6', 'd6', 'e6', 'f6', 'g6', 'h6',\n",
        "                'a5', 'b5', 'c5', 'd5', 'e5', 'f5', 'g5', 'h5',\n",
        "                'a4', 'b4', 'c4', 'd4', 'e4', 'f4', 'g4', 'h4',\n",
        "                'a3', 'b3', 'c3', 'd3', 'e3', 'f3', 'g3', 'h3',\n",
        "                'a2', 'b2', 'c2', 'd2', 'e2', 'f2', 'g2', 'h2',\n",
        "                'a1', 'b1', 'c1', 'd1', 'e1', 'f1', 'g1', 'h1',\n",
        "                '<castling_1>', '<castling_2>', '<castling_3>', 'castling_4>',\n",
        "                '<en_passant_letter>','<en_passant_number>',\n",
        "                '<halfmove_1>', '<halfmove_2>', '<halfmove_3>',\n",
        "                '<fullmove_1>', '<fullmove_2>', '<fullmove_3>', 'move']\n",
        "token_labels = np.array(token_labels)"
      ]
    },
    {
      "cell_type": "code",
      "execution_count": 7,
      "metadata": {},
      "outputs": [],
      "source": [
        "def get_sequences_from_board(board: chess.Board) -> np.ndarray:\n",
        "    \"\"\"Get the sequences from a chess board.\"\"\"\n",
        "    sorted_legal_moves = engine.get_ordered_legal_moves(board)\n",
        "    #print('sorted_legal_moves:', sorted_legal_moves)\n",
        "    legal_actions = [utils.MOVE_TO_ACTION[x.uci()] for x in sorted_legal_moves]\n",
        "    #print('legal_actions 1:', legal_actions)\n",
        "    legal_actions = np.array(legal_actions, dtype=np.int32)\n",
        "    #print('legal_actions 2:', legal_actions)\n",
        "    legal_actions = np.expand_dims(legal_actions, axis=-1)\n",
        "    #print('legal_actions 3:', legal_actions)\n",
        "    #print('legal_actions.shape:', legal_actions.shape)\n",
        "    # Tokenize the return buckets.\n",
        "    dummy_return_buckets = np.zeros((len(legal_actions), 1), dtype=np.int32)\n",
        "    #print('dummy_return_buckets:', dummy_return_buckets)\n",
        "    #print('dummy_return_buckets.shape:', dummy_return_buckets.shape)\n",
        "    # Tokenize the board.\n",
        "    tokenized_fen = tokenizer.tokenize(board.fen()).astype(np.int32)\n",
        "    #print('tokenized_fen:', tokenized_fen)\n",
        "    #print('tokenized_fen.shape:', tokenized_fen.shape)\n",
        "    sequences = np.stack([tokenized_fen] * len(legal_actions))\n",
        "    #print('sequences:', sequences)\n",
        "    #print('sequences.shape:', sequences.shape)\n",
        "    # Create the sequences.\n",
        "    sequences = np.concatenate(\n",
        "        [sequences, legal_actions, dummy_return_buckets],\n",
        "        axis=1,\n",
        "    )\n",
        "    return sequences"
      ]
    },
    {
      "cell_type": "code",
      "execution_count": 8,
      "metadata": {},
      "outputs": [],
      "source": [
        "def plot_attention_maps(attention_maps, token_labels=None, save_path=None):\n",
        "    \"\"\"\n",
        "    attention_maps: List of jax arrays [B, H, T, T], one per layer.\n",
        "    token_labels: Optional list of labels for tokens.\n",
        "    \"\"\"\n",
        "    num_layers, num_heads, seq_len, _ = attention_maps.shape\n",
        "\n",
        "    fig, axs = plt.subplots(num_layers, num_heads, figsize=(num_heads*8, num_layers*8))\n",
        "\n",
        "    for l, layer_attn in enumerate(attention_maps):\n",
        "        for h in range(num_heads):\n",
        "            ax = axs[l, h] if num_layers > 1 else axs[h]\n",
        "            attn = np.array(layer_attn[h])  # (T, T)\n",
        "            im = ax.imshow(attn, cmap=\"viridis\")\n",
        "            ax.set_title(f\"L{l+1}H{h+1}\", fontsize=8)\n",
        "            if token_labels is not None:\n",
        "                ax.set_xticks(range(seq_len))\n",
        "                ax.set_yticks(range(seq_len))\n",
        "                ax.set_xticklabels(token_labels, rotation=90)\n",
        "                ax.set_yticklabels(token_labels)\n",
        "            else:\n",
        "                ax.set_xticks([])\n",
        "                ax.set_yticks([])\n",
        "\n",
        "    fig.tight_layout()\n",
        "    if save_path:\n",
        "        plt.savefig(save_path)\n",
        "        plt.close(fig)\n",
        "    else:\n",
        "        plt.show()"
      ]
    },
    {
      "cell_type": "code",
      "execution_count": 9,
      "metadata": {},
      "outputs": [],
      "source": [
        "def plot_attention_in_board(attention_map, by_row = True, token_labels=None, save_path=None):\n",
        "    \"\"\"\n",
        "    attention_maps: List of jax arrays [B, H, T, T], one per layer.\n",
        "    token_labels: Optional list of labels for tokens.\n",
        "    \"\"\"\n",
        "    fig, axes = plt.subplots(nrows=10, ncols=8, figsize=(16, 20))\n",
        "    axes = axes.flatten()  # Para iterar fácilmente\n",
        "    \n",
        "    padded_attention_map = np.pad(attention_map, ((0, 1), (0, 1)), mode='constant', constant_values=0)\n",
        "    \n",
        "    ordered_indices = np.arange(2, 66)\n",
        "    ordered_indices = np.concatenate((ordered_indices, [0, 1]))\n",
        "    ordered_indices = np.concatenate((ordered_indices, np.arange(66, 79)))\n",
        "    ordered_indices_padded = np.concatenate((ordered_indices, [79]))\n",
        "    \n",
        "    # Dibujar cada fila como heatmap en su subplot correspondiente\n",
        "    for i,j in zip(ordered_indices, range(79)): \n",
        "        ax = axes[j]\n",
        "        if by_row:\n",
        "            row_data = padded_attention_map[i,ordered_indices_padded].reshape(-1, 8)  # Mantenerlo 2D\n",
        "        else:\n",
        "            row_data = padded_attention_map[ordered_indices_padded,i].reshape(-1, 8)\n",
        "        im = ax.imshow(row_data, aspect='auto', cmap='viridis')\n",
        "        if j < 64:\n",
        "            ax.set_title(token_labels[i-1])\n",
        "        else:\n",
        "            ax.set_title(token_labels[i])\n",
        "        \n",
        "        if j % 8 == 0:  # Primera columna\n",
        "            ax.set_yticks(range(10))\n",
        "            ax.set_yticklabels(token_labels[ordered_indices][::8])\n",
        "        else:\n",
        "            ax.set_yticks([])\n",
        "        ax.set_xticks([])\n",
        "        ax.set_xticklabels([])\n",
        "        #ax.set_yticklabels(token_labels[ordered_indices].astype(int)[::8])\n",
        "            \n",
        "        #ax.axis('off')\n",
        "    \n",
        "    # Ocultar el subplot sobrante (posición 80)\n",
        "    axes[79].axis('off')\n",
        "\n",
        "    # Agregar barra de color a la derecha de todos los subgráficos\n",
        "    \n",
        "    plt.tight_layout()\n",
        "    #fig.colorbar(im, ax=axes.tolist(), shrink=0.6)\n",
        "    if save_path:\n",
        "        plt.savefig(save_path)\n",
        "        plt.close(fig)\n",
        "    else:\n",
        "        plt.show()"
      ]
    },
    {
      "cell_type": "code",
      "execution_count": 10,
      "metadata": {},
      "outputs": [],
      "source": [
        "def plot_attention_in_board_embedded(attention_map, token_labels, fig, subplot_spec, by_row=True):\n",
        "    \"\"\"\n",
        "    attention_map: numpy array [79, 79]\n",
        "    token_labels: list of token strings\n",
        "    fig: Matplotlib figure\n",
        "    subplot_spec: GridSpec SubplotSpec to draw the board into\n",
        "    \"\"\"\n",
        "    gs = gridspec.GridSpecFromSubplotSpec(10, 8, subplot_spec=subplot_spec, wspace=0.5, hspace=0.5)\n",
        "    padded_attention_map = np.pad(attention_map, ((0, 1), (0, 1)), mode='constant', constant_values=0)\n",
        "    ordered_indices = np.concatenate([np.arange(2, 66), [0, 1], np.arange(66, 79)])\n",
        "    ordered_indices_padded = np.concatenate([ordered_indices, [79]])\n",
        "    \n",
        "    ordered_token_labels = token_labels[ordered_indices]\n",
        "    \n",
        "    for idx, i in enumerate(ordered_indices):\n",
        "        row = idx // 8\n",
        "        col = idx % 8\n",
        "        ax = fig.add_subplot(gs[row, col])\n",
        "        if by_row:\n",
        "            data = padded_attention_map[i, ordered_indices_padded].reshape(-1, 8)\n",
        "        else:\n",
        "            data = padded_attention_map[ordered_indices_padded, i].reshape(-1, 8)\n",
        "        ax.imshow(data, aspect='auto', cmap='viridis')\n",
        "        ax.set_title(ordered_token_labels[idx], fontsize=6)\n",
        "        ax.set_xticks([])\n",
        "        ax.set_yticks([])\n",
        "\n",
        "    # Ocultar el subplot sobrante (posición 79)\n",
        "    fig.add_subplot(gs[-1, -1]).axis('off')\n",
        "\n",
        "def plot_all_attention_heads(attention_maps, token_labels, by_row=True, save_path=None):\n",
        "    \"\"\"\n",
        "    attention_maps: numpy array of shape (4, 4, 79, 79)\n",
        "    token_labels: list of token strings\n",
        "    \"\"\"\n",
        "    num_layers, num_heads, _, _ = attention_maps.shape\n",
        "    fig = plt.figure(figsize=(num_heads * 10, num_layers * 10))\n",
        "    outer = gridspec.GridSpec(num_layers, num_heads, wspace=0.1, hspace=0.1)\n",
        "\n",
        "    for l in range(num_layers):\n",
        "        for h in range(num_heads):\n",
        "            attention_map = attention_maps[l, h]\n",
        "            subplot_spec = outer[l, h]\n",
        "            plot_attention_in_board_embedded(attention_map, token_labels, fig, subplot_spec, by_row)\n",
        "            ax = fig.add_subplot(subplot_spec)\n",
        "            ax.set_title(f\"Capa {l+1}, Cabeza {h+1}\", fontsize=10)\n",
        "            ax.axis('off')  # Ya se dibujaron internamente\n",
        "\n",
        "    plt.tight_layout()\n",
        "    if save_path:\n",
        "        plt.savefig(save_path)\n",
        "        plt.close(fig)\n",
        "    else:\n",
        "        plt.show()"
      ]
    },
    {
      "cell_type": "markdown",
      "metadata": {},
      "source": [
        "Prueba:"
      ]
    },
    {
      "cell_type": "code",
      "execution_count": null,
      "metadata": {},
      "outputs": [],
      "source": [
        "board = chess.Board()\n",
        "sequences = get_sequences_from_board(board)\n",
        "print(sequences.shape)\n",
        "results = predict_fn(sequences)\n",
        "logits, attention_maps = results[0]\n",
        "attention_maps = np.array(attention_maps).reshape(num_layers, num_heads, 79, 79)\n",
        "print('results:', logits.shape)\n",
        "print('attention_maps_shape:', attention_maps.shape)\n",
        "plot_attention_maps(attention_maps, token_labels=token_labels)\n",
        "plot_all_attention_heads(attention_maps, token_labels=token_labels)"
      ]
    },
    {
      "cell_type": "markdown",
      "metadata": {},
      "source": [
        "## Gradientes de las entradas"
      ]
    },
    {
      "cell_type": "code",
      "execution_count": 11,
      "metadata": {},
      "outputs": [],
      "source": [
        "def compute_token_grad_importance(\n",
        "    predictor,      # constants.Predictor\n",
        "    params,         # parámetros cargados\n",
        "    input_seq,      # np.array shape (1, T) con índices de tokens\n",
        "    config          # TransformerConfig\n",
        "):\n",
        "    \"\"\"\n",
        "    Calcula la relevancia (gradientes) de cada token de entrada usando override_embedding.\n",
        "\n",
        "    Returns:\n",
        "      importances: np.array shape (T,) con la derivada del log-prob del token objetivo.\n",
        "    \"\"\"\n",
        "    # Dimensiones\n",
        "    T = input_seq.shape[0]\n",
        "    V = config.vocab_size\n",
        "\n",
        "    # 1) Extrae la matriz de embeddings de params\n",
        "    tok_emb_matrix = params['embed']['embeddings']\n",
        "    pos_emb_matrix = params['embed_1']['embeddings']\n",
        "\n",
        "    # 2) Construye un one-hot “suave” de tu secuencia\n",
        "    inputs_shifted = transformer_xai.shift_right(input_seq.reshape(1,-1))  # shape (1, T)\n",
        "    one_hot = jax.nn.one_hot(inputs_shifted, V)  # (1, T, V)\n",
        "\n",
        "    # 3) Define la función de pérdida sobre el one-hot continuo\n",
        "    def loss_fn(one_hot_cont):\n",
        "        # 1) Proyección one-hot → embeddings\n",
        "        token_emb = jnp.einsum('b t v, v d -> b t d', one_hot_cont, tok_emb_matrix)\n",
        "        pos_emb = jnp.broadcast_to(pos_emb_matrix[None, :, :], token_emb.shape)\n",
        "        final_emb = token_emb + pos_emb\n",
        "        \n",
        "        # 2) Inferencia override\n",
        "        buckets_logp, _ = predictor.predict(\n",
        "            params=params,\n",
        "            targets=final_emb,\n",
        "            rng=None,\n",
        "            override_embedding=True,\n",
        "            config=config,\n",
        "        )\n",
        "        # buckets_logp: (1, T, V)\n",
        "        last_logp = buckets_logp[0, -1, :]        # (V,)\n",
        "\n",
        "        _, return_buckets_values = utils.get_uniform_buckets_edges_values(\n",
        "            config.output_size\n",
        "        )\n",
        "        \n",
        "        # 3) convierte a probabilidades y calcula probabilidad de victoria\n",
        "        probs = jnp.exp(last_logp)                # (V,)\n",
        "        win_prob = jnp.dot(probs, return_buckets_values)  # escalar ()\n",
        "\n",
        "        # Queremos maximizar win_prob, así que la \"pérdida\" la tomamos como -win_prob\n",
        "        return -win_prob\n",
        "\n",
        "\n",
        "    # 4) Gradiente del escalar respecto al one-hot continuo\n",
        "    grad_fn = jax.grad(loss_fn)\n",
        "    grads = grad_fn(one_hot)               # (1, T, V)\n",
        "    jacc_fn = jax.grad(lambda x: jax.grad(loss_fn)(x).sum())\n",
        "    jacc = jacc_fn(one_hot)                # (1, T, V)\n",
        "    # 5) Para cada posición t, tomamos la componente del token real\n",
        "    \n",
        "    gradients = grads[0, jnp.arange(T), input_seq]  # (T,)\n",
        "    jacobians = jacc[0, jnp.arange(T), input_seq]  # (T,)\n",
        "\n",
        "    return np.array(gradients), np.array(jacobians)"
      ]
    },
    {
      "cell_type": "code",
      "execution_count": 12,
      "metadata": {},
      "outputs": [],
      "source": [
        "# @title Plot the attention maps\n",
        "# Supón que ya has calculado:\n",
        "# importances: numpy array de shape (T,) con la relevancia de cada token\n",
        "# feature_names: lista de strings de longitud T con nombres legibles de cada token\n",
        "\n",
        "def bar_plot_token_importances(importances: np.ndarray, token_labels: list[str],\n",
        "                           save_path: str = None):\n",
        "    \"\"\"\n",
        "    Grafica un bar chart mostrando la importancia de cada token.\n",
        "    - importances: array de shape (T,) con relevancias.\n",
        "    - feature_names: lista de longitud T con etiquetas para cada token.\n",
        "    \"\"\"\n",
        "    T = len(importances)\n",
        "    plt.figure(figsize=(12, 4))\n",
        "    plt.bar(range(T), importances)\n",
        "    plt.xticks(range(T), token_labels, rotation=90)\n",
        "    plt.xlabel(\"Token\")\n",
        "    plt.ylabel(\"Importancia (gradiente)\")\n",
        "    plt.title(\"Importancia de cada token en la predicción\")\n",
        "    plt.tight_layout()\n",
        "    if save_path:\n",
        "        plt.savefig(save_path)\n",
        "        plt.close()\n",
        "    else:\n",
        "        plt.show()\n",
        "\n",
        "def board_plot_token_importances(\n",
        "    importances: np.ndarray,\n",
        "    token_labels: list[str],\n",
        "    save_path: str = None,\n",
        "):\n",
        "    \"\"\"\n",
        "    Grafica un mapa de calor mostrando la importancia de cada token.\n",
        "    - importances: array de shape (T,) con relevancias.\n",
        "    - feature_names: lista de longitud T con etiquetas para cada token.\n",
        "    \"\"\"\n",
        "    padded_importances = np.concatenate((importances, [0]))\n",
        "    ordered_indices = np.concatenate([np.arange(2, 66), [0, 1], np.arange(66, 79)])\n",
        "    ordered_indices_padded = np.concatenate([ordered_indices, [79]])\n",
        "    padded_token_labels = np.concatenate([token_labels, ['pad']])\n",
        "    ordered_token_labels = padded_token_labels[ordered_indices_padded].reshape(-1, 8)\n",
        "    boarded_importances = padded_importances[ordered_indices_padded].reshape(-1, 8)\n",
        "    \n",
        "    plt.figure(figsize=(8, 10))\n",
        "    vmin, vmax = -np.max(np.abs(importances)), np.max(np.abs(importances))\n",
        "\n",
        "    norm = colors.TwoSlopeNorm(vmin=vmin, vcenter=0.0, vmax=vmax)\n",
        "\n",
        "    \n",
        "    im = plt.imshow(boarded_importances, aspect='auto', cmap='coolwarm', norm=norm)\n",
        "    plt.title(\"Importancia de cada token en la predicción\")\n",
        "    \"\"\"\n",
        "    plt.xticks(range(8), ordered_token_labels[:8], rotation=90)\n",
        "    plt.yticks(range(10), ordered_token_labels[::8])\n",
        "    \"\"\"\n",
        "    for i in range(10):\n",
        "        for j in range(8):\n",
        "            label = ordered_token_labels[i, j]\n",
        "            plt.text(j, i, label, ha='center', va='center', color='white', fontsize=7)\n",
        "\n",
        "    plt.colorbar(label='Importancia')\n",
        "\n",
        "    if save_path:\n",
        "        plt.savefig(save_path)\n",
        "        plt.close()\n",
        "    else:\n",
        "        plt.show()"
      ]
    },
    {
      "cell_type": "markdown",
      "metadata": {},
      "source": [
        "Prueba:"
      ]
    },
    {
      "cell_type": "code",
      "execution_count": 21,
      "metadata": {},
      "outputs": [],
      "source": [
        "board = chess.Board()\n",
        "sequences = get_sequences_from_board(board)\n",
        "input_seq = sequences[0]"
      ]
    },
    {
      "cell_type": "code",
      "execution_count": 22,
      "metadata": {},
      "outputs": [],
      "source": [
        "gradients, jacobians = compute_token_grad_importance(\n",
        "    predictor,     \n",
        "    params,        \n",
        "    input_seq,     \n",
        "    predictor_config     \n",
        ")"
      ]
    },
    {
      "cell_type": "code",
      "execution_count": 23,
      "metadata": {},
      "outputs": [
        {
          "data": {
            "image/png": "[encoded data removed]",
            "text/plain": [
              "<Figure size 1200x400 with 1 Axes>"
            ]
          },
          "metadata": {},
          "output_type": "display_data"
        }
      ],
      "source": [
        "bar_plot_token_importances(gradients, token_labels)"
      ]
    },
    {
      "cell_type": "code",
      "execution_count": 24,
      "metadata": {},
      "outputs": [
        {
          "data": {
            "image/png": "[encoded data removed]",
            "text/plain": [
              "<Figure size 1200x400 with 1 Axes>"
            ]
          },
          "metadata": {},
          "output_type": "display_data"
        }
      ],
      "source": [
        "bar_plot_token_importances(jacobians, token_labels)"
      ]
    },
    {
      "cell_type": "code",
      "execution_count": 25,
      "metadata": {},
      "outputs": [
        {
          "data": {
            "image/png": "[encoded data removed]",
            "text/plain": [
              "<Figure size 800x1000 with 2 Axes>"
            ]
          },
          "metadata": {},
          "output_type": "display_data"
        }
      ],
      "source": [
        "board_plot_token_importances(gradients, token_labels)"
      ]
    },
    {
      "cell_type": "code",
      "execution_count": 26,
      "metadata": {},
      "outputs": [
        {
          "data": {
            "image/png": "[encoded data removed]",
            "text/plain": [
              "<Figure size 800x1000 with 2 Axes>"
            ]
          },
          "metadata": {},
          "output_type": "display_data"
        }
      ],
      "source": [
        "board_plot_token_importances(jacobians, token_labels)"
      ]
    },
    {
      "cell_type": "markdown",
      "metadata": {},
      "source": [
        "# Experimentos"
      ]
    },
    {
      "cell_type": "code",
      "execution_count": 13,
      "metadata": {},
      "outputs": [],
      "source": [
        "_, return_buckets_values = utils.get_uniform_buckets_edges_values(\n",
        "    num_return_buckets\n",
        ")\n",
        "\n",
        "def experimento_xai(fen, max_moves=5, plot_raw_att=False, plot_board_att_by_rows = True, \n",
        "                    plot_board_att_by_cols=True, plot_token_imp=True,\n",
        "                    save_path=None\n",
        "                    ):\n",
        "    \n",
        "    # Creamos el tablero\n",
        "    board = chess.Board(fen)\n",
        "    # Obtenemos los pares tablero-jugada tokenizados\n",
        "    sequences = get_sequences_from_board(board)\n",
        "    # Predecimos los logits y mapas de atención\n",
        "    results = predict_fn(sequences)\n",
        "    logits = np.array([log[:,-1,:] for log, att in results])\n",
        "    attention_maps = [att for log, att in results]\n",
        "    attention_maps = np.array(attention_maps).reshape(-1, num_layers, num_heads, 79, 79)\n",
        "    \n",
        "    # Calculamos las probabilidades de victoria de cada jugada\n",
        "    sorted_legal_moves = engine.get_ordered_legal_moves(board)\n",
        "    win_probs = np.inner(np.exp(logits), return_buckets_values)\n",
        "    win_probs = win_probs.flatten()\n",
        "    \n",
        "    # Reorganizar el diccionario\n",
        "    reorganized_dict = {\n",
        "        move.uci(): {\n",
        "            \"logits\": logit.tolist() if isinstance(logit, np.ndarray) else logit,\n",
        "            \"win_probs\": win_prob.tolist() if isinstance(win_prob, np.ndarray) else win_prob\n",
        "        }\n",
        "        for move, logit, win_prob in zip(sorted_legal_moves, logits, win_probs)\n",
        "    }\n",
        "\n",
        "    # Guardar en archivo JSON\n",
        "    os.makedirs(save_path, exist_ok=True)\n",
        "    with open(f'{save_path}/results.json', 'w') as f:\n",
        "        json.dump(reorganized_dict, f, indent=2)\n",
        "    \n",
        "    if max_moves == None or max_moves > len(sorted_legal_moves):\n",
        "        max_moves = len(sorted_legal_moves)\n",
        "    \n",
        "    # Ejecutamos los experimentos de xAI con las max_moves mejores jugadas\n",
        "    for i in np.argsort(win_probs)[:-max_moves-1:-1]:\n",
        "        print(f'  {sorted_legal_moves[i].uci()} -> {100*win_probs[i]:.1f}%')\n",
        "        # Mapa de atención plano\n",
        "        if plot_raw_att:\n",
        "            os.makedirs(f'{save_path}/attention/79x79', exist_ok=True)\n",
        "            plot_attention_maps(attention_maps[i], token_labels=token_labels, \n",
        "                                save_path=f'{save_path}/attention/79x79/_{sorted_legal_moves[i].uci()}.png')\n",
        "            \n",
        "        # Mapa de atención en el tablero\n",
        "        if plot_board_att_by_rows:\n",
        "            os.makedirs(f'{save_path}/attention/reordered_by_row', exist_ok=True)\n",
        "            plot_all_attention_heads(attention_maps[i], token_labels=token_labels, by_row=True,\n",
        "                                    save_path=f'{save_path}/attention/reordered_by_row/{sorted_legal_moves[i].uci()}.png')\n",
        "        # Mapa de atención en el tablero (traspuesto)\n",
        "        if plot_board_att_by_cols:\n",
        "            os.makedirs(f'{save_path}/attention/reordered_by_col', exist_ok=True)\n",
        "            plot_all_attention_heads(attention_maps[i], token_labels=token_labels, by_row=False,\n",
        "                                save_path=f'{save_path}/attention/reordered_by_col/{sorted_legal_moves[i].uci()}.png')\n",
        "        # Importancia de los tokens\n",
        "        if plot_token_imp:\n",
        "            os.makedirs(f'{save_path}/token_importances/bars', exist_ok=True)\n",
        "            os.makedirs(f'{save_path}/token_importances/board', exist_ok=True)\n",
        "            grads, jacs = compute_token_grad_importance(\n",
        "                predictor,\n",
        "                params,   \n",
        "                sequences[i], \n",
        "                predictor_config\n",
        "            )\n",
        "            bar_plot_token_importances(grads, token_labels, save_path=f'{save_path}/token_importances/bars/{sorted_legal_moves[i].uci()}_grad.png')\n",
        "            bar_plot_token_importances(jacs, token_labels, save_path=f'{save_path}/token_importances/bars/{sorted_legal_moves[i].uci()}_jac.png')\n",
        "            bar_plot_token_importances(grads, token_labels, save_path=f'{save_path}/token_importances/board/{sorted_legal_moves[i].uci()}_grad.png')\n",
        "            board_plot_token_importances(jacs, token_labels, save_path=f'{save_path}/token_importances/board/{sorted_legal_moves[i].uci()}_jac.png')\n",
        "        \n",
        "        gc.collect()"
      ]
    },
    {
      "cell_type": "markdown",
      "metadata": {},
      "source": [
        "## Experimento 1: Primera jugada de blancas"
      ]
    },
    {
      "cell_type": "code",
      "execution_count": 15,
      "metadata": {},
      "outputs": [],
      "source": [
        "board1 = chess.Board()\n",
        "fen1 = board1.fen()"
      ]
    },
    {
      "cell_type": "code",
      "execution_count": 16,
      "metadata": {},
      "outputs": [
        {
          "name": "stdout",
          "output_type": "stream",
          "text": [
            "  e2e4 -> 53.5%\n",
            "  d2d4 -> 53.1%\n",
            "  g1f3 -> 52.6%\n",
            "  c2c4 -> 52.4%\n",
            "  e2e3 -> 51.6%\n"
          ]
        }
      ],
      "source": [
        "experimento_xai(fen1, max_moves=5, plot_raw_att=False, plot_board_att_by_rows = False, \n",
        "                plot_board_att_by_cols=False, plot_token_imp=True,\n",
        "                save_path='xai/experiment1_batched')"
      ]
    },
    {
      "cell_type": "markdown",
      "metadata": {},
      "source": [
        "## Experimento 2: Primera jugada de negras (1. e4)"
      ]
    },
    {
      "cell_type": "code",
      "execution_count": 17,
      "metadata": {},
      "outputs": [],
      "source": [
        "board2 = chess.Board()\n",
        "board2.push(chess.Move.from_uci('e2e4'))\n",
        "fen2 = board2.fen()"
      ]
    },
    {
      "cell_type": "code",
      "execution_count": 18,
      "metadata": {},
      "outputs": [
        {
          "name": "stdout",
          "output_type": "stream",
          "text": [
            "  c7c5 -> 47.0%\n"
          ]
        },
        {
          "name": "stderr",
          "output_type": "stream",
          "text": [
            "/tmp/ipykernel_34133/670732616.py:49: UserWarning: This figure includes Axes that are not compatible with tight_layout, so results might be incorrect.\n",
            "  plt.tight_layout()\n"
          ]
        },
        {
          "name": "stdout",
          "output_type": "stream",
          "text": [
            "  e7e6 -> 46.3%\n"
          ]
        },
        {
          "name": "stderr",
          "output_type": "stream",
          "text": [
            "/tmp/ipykernel_34133/670732616.py:49: UserWarning: This figure includes Axes that are not compatible with tight_layout, so results might be incorrect.\n",
            "  plt.tight_layout()\n"
          ]
        },
        {
          "name": "stdout",
          "output_type": "stream",
          "text": [
            "  e7e5 -> 46.2%\n"
          ]
        },
        {
          "name": "stderr",
          "output_type": "stream",
          "text": [
            "/tmp/ipykernel_34133/670732616.py:49: UserWarning: This figure includes Axes that are not compatible with tight_layout, so results might be incorrect.\n",
            "  plt.tight_layout()\n"
          ]
        },
        {
          "name": "stdout",
          "output_type": "stream",
          "text": [
            "  d7d5 -> 45.6%\n"
          ]
        },
        {
          "name": "stderr",
          "output_type": "stream",
          "text": [
            "/tmp/ipykernel_34133/670732616.py:49: UserWarning: This figure includes Axes that are not compatible with tight_layout, so results might be incorrect.\n",
            "  plt.tight_layout()\n"
          ]
        },
        {
          "name": "stdout",
          "output_type": "stream",
          "text": [
            "  c7c6 -> 44.7%\n"
          ]
        },
        {
          "name": "stderr",
          "output_type": "stream",
          "text": [
            "/tmp/ipykernel_34133/670732616.py:49: UserWarning: This figure includes Axes that are not compatible with tight_layout, so results might be incorrect.\n",
            "  plt.tight_layout()\n"
          ]
        }
      ],
      "source": [
        "experimento_xai(fen2, max_moves=5, plot_raw_att=False, plot_board_att_by_rows = True, \n",
        "                plot_board_att_by_cols=True, plot_token_imp=True,\n",
        "                save_path='xai/experiment2_batched')"
      ]
    },
    {
      "cell_type": "markdown",
      "metadata": {},
      "source": [
        "## Experimento 3 - Carrera de peón"
      ]
    },
    {
      "cell_type": "code",
      "execution_count": 19,
      "metadata": {},
      "outputs": [],
      "source": [
        "board3 = chess.Board('1k6/8/8/8/8/8/7P/1K6 w - - 0 1')\n",
        "fen3 = board3.fen()"
      ]
    },
    {
      "cell_type": "code",
      "execution_count": 20,
      "metadata": {},
      "outputs": [
        {
          "name": "stdout",
          "output_type": "stream",
          "text": [
            "  h2h4 -> 88.1%\n",
            "  h2h3 -> 50.4%\n",
            "  b1c2 -> 50.1%\n",
            "  b1a1 -> 50.1%\n",
            "  b1b2 -> 50.1%\n"
          ]
        }
      ],
      "source": [
        "experimento_xai(fen3, max_moves=5, plot_raw_att=False, plot_board_att_by_rows = False,\n",
        "                plot_board_att_by_cols=False, plot_token_imp=True,\n",
        "                save_path='xai/experiment3_batched')"
      ]
    },
    {
      "cell_type": "markdown",
      "metadata": {},
      "source": [
        "## Experimento 4 - CorridorRooksWhite"
      ]
    },
    {
      "cell_type": "code",
      "execution_count": 21,
      "metadata": {},
      "outputs": [],
      "source": [
        "board4 = chess.Board('1k6/ppp4r/8/8/8/8/PPP3R1/1K6 w - - 0 1')\n",
        "fen4 = board4.fen()"
      ]
    },
    {
      "cell_type": "code",
      "execution_count": 22,
      "metadata": {},
      "outputs": [
        {
          "name": "stdout",
          "output_type": "stream",
          "text": [
            "  g2g8 -> 99.6%\n"
          ]
        },
        {
          "name": "stderr",
          "output_type": "stream",
          "text": [
            "/tmp/ipykernel_34133/670732616.py:49: UserWarning: This figure includes Axes that are not compatible with tight_layout, so results might be incorrect.\n",
            "  plt.tight_layout()\n"
          ]
        },
        {
          "name": "stdout",
          "output_type": "stream",
          "text": [
            "  a2a4 -> 50.3%\n"
          ]
        },
        {
          "name": "stderr",
          "output_type": "stream",
          "text": [
            "/tmp/ipykernel_34133/670732616.py:49: UserWarning: This figure includes Axes that are not compatible with tight_layout, so results might be incorrect.\n",
            "  plt.tight_layout()\n"
          ]
        },
        {
          "name": "stdout",
          "output_type": "stream",
          "text": [
            "  b2b3 -> 50.2%\n"
          ]
        },
        {
          "name": "stderr",
          "output_type": "stream",
          "text": [
            "/tmp/ipykernel_34133/670732616.py:49: UserWarning: This figure includes Axes that are not compatible with tight_layout, so results might be incorrect.\n",
            "  plt.tight_layout()\n"
          ]
        },
        {
          "name": "stdout",
          "output_type": "stream",
          "text": [
            "  a2a3 -> 50.2%\n"
          ]
        },
        {
          "name": "stderr",
          "output_type": "stream",
          "text": [
            "/tmp/ipykernel_34133/670732616.py:49: UserWarning: This figure includes Axes that are not compatible with tight_layout, so results might be incorrect.\n",
            "  plt.tight_layout()\n"
          ]
        },
        {
          "name": "stdout",
          "output_type": "stream",
          "text": [
            "  g2g1 -> 50.2%\n"
          ]
        },
        {
          "name": "stderr",
          "output_type": "stream",
          "text": [
            "/tmp/ipykernel_34133/670732616.py:49: UserWarning: This figure includes Axes that are not compatible with tight_layout, so results might be incorrect.\n",
            "  plt.tight_layout()\n"
          ]
        }
      ],
      "source": [
        "experimento_xai(fen4, max_moves=5, plot_raw_att=False, plot_board_att_by_rows = True,\n",
        "                plot_board_att_by_cols=True, plot_token_imp=True,\n",
        "                save_path='xai/experiment4_batched')"
      ]
    },
    {
      "cell_type": "markdown",
      "metadata": {},
      "source": [
        "## Experimento 4.2 - CorridorRooksBlack"
      ]
    },
    {
      "cell_type": "code",
      "execution_count": 42,
      "metadata": {},
      "outputs": [],
      "source": [
        "board4 = chess.Board('1k6/ppp4r/8/8/8/8/PPP3R1/1K6 b - - 0 1')\n",
        "fen4 = board4.fen()"
      ]
    },
    {
      "cell_type": "code",
      "execution_count": 43,
      "metadata": {},
      "outputs": [
        {
          "name": "stdout",
          "output_type": "stream",
          "text": [
            "  h7h1 -> 99.6%\n"
          ]
        },
        {
          "name": "stderr",
          "output_type": "stream",
          "text": [
            "/tmp/ipykernel_1676201/1417204334.py:62: UserWarning: This figure includes Axes that are not compatible with tight_layout, so results might be incorrect.\n",
            "  plt.tight_layout()\n"
          ]
        },
        {
          "name": "stdout",
          "output_type": "stream",
          "text": [
            "  a7a5 -> 50.3%\n"
          ]
        },
        {
          "name": "stderr",
          "output_type": "stream",
          "text": [
            "/tmp/ipykernel_1676201/1417204334.py:62: UserWarning: This figure includes Axes that are not compatible with tight_layout, so results might be incorrect.\n",
            "  plt.tight_layout()\n"
          ]
        },
        {
          "name": "stdout",
          "output_type": "stream",
          "text": [
            "  a7a6 -> 50.3%\n"
          ]
        },
        {
          "name": "stderr",
          "output_type": "stream",
          "text": [
            "/tmp/ipykernel_1676201/1417204334.py:62: UserWarning: This figure includes Axes that are not compatible with tight_layout, so results might be incorrect.\n",
            "  plt.tight_layout()\n"
          ]
        },
        {
          "name": "stdout",
          "output_type": "stream",
          "text": [
            "  b7b6 -> 50.3%\n"
          ]
        },
        {
          "name": "stderr",
          "output_type": "stream",
          "text": [
            "/tmp/ipykernel_1676201/1417204334.py:62: UserWarning: This figure includes Axes that are not compatible with tight_layout, so results might be incorrect.\n",
            "  plt.tight_layout()\n"
          ]
        },
        {
          "name": "stdout",
          "output_type": "stream",
          "text": [
            "  c7c6 -> 50.2%\n"
          ]
        },
        {
          "name": "stderr",
          "output_type": "stream",
          "text": [
            "/tmp/ipykernel_1676201/1417204334.py:62: UserWarning: This figure includes Axes that are not compatible with tight_layout, so results might be incorrect.\n",
            "  plt.tight_layout()\n"
          ]
        }
      ],
      "source": [
        "experimento_xai(fen4, max_moves=5, plot_raw_att=False, plot_board_att_by_rows = True,\n",
        "                plot_board_att_by_cols=True, plot_token_imp=True,\n",
        "                save_path='xai/experiment4_batched/black')"
      ]
    },
    {
      "cell_type": "markdown",
      "metadata": {},
      "source": [
        "## Experimento 5 - CrossMate"
      ]
    },
    {
      "cell_type": "code",
      "execution_count": null,
      "metadata": {},
      "outputs": [
        {
          "ename": "",
          "evalue": "",
          "output_type": "error",
          "traceback": [
            "\u001b[1;31mThe Kernel crashed while executing code in the current cell or a previous cell. \n",
            "\u001b[1;31mPlease review the code in the cell(s) to identify a possible cause of the failure. \n",
            "\u001b[1;31mClick <a href='https://aka.ms/vscodeJupyterKernelCrash'>here</a> for more info. \n",
            "\u001b[1;31mView Jupyter <a href='command:jupyter.viewOutput'>log</a> for further details."
          ]
        }
      ],
      "source": [
        "board5 = chess.Board('k7/6b1/5q2/8/8/4Q3/5B2/1K6 w - - 0 1')\n",
        "fen5 = board5.fen()"
      ]
    },
    {
      "cell_type": "code",
      "execution_count": 24,
      "metadata": {},
      "outputs": [
        {
          "name": "stdout",
          "output_type": "stream",
          "text": [
            "  e3a7 -> 99.6%\n"
          ]
        },
        {
          "name": "stderr",
          "output_type": "stream",
          "text": [
            "/tmp/ipykernel_34133/670732616.py:49: UserWarning: This figure includes Axes that are not compatible with tight_layout, so results might be incorrect.\n",
            "  plt.tight_layout()\n"
          ]
        },
        {
          "ename": "",
          "evalue": "",
          "output_type": "error",
          "traceback": [
            "\u001b[1;31mCanceled future for execute_request message before replies were done"
          ]
        },
        {
          "ename": "",
          "evalue": "",
          "output_type": "error",
          "traceback": [
            "\u001b[1;31mCanceled future for execute_request message before replies were done. \n",
            "\u001b[1;31mView Jupyter <a href='command:jupyter.viewOutput'>log</a> for further details."
          ]
        }
      ],
      "source": [
        "experimento_xai(fen5, max_moves=5, plot_raw_att=False, plot_board_att_by_rows = True,\n",
        "                plot_board_att_by_cols=True, plot_token_imp=True,\n",
        "                save_path='xai/experiment5_batched')"
      ]
    },
    {
      "cell_type": "markdown",
      "metadata": {},
      "source": [
        "## Diferencia de atenciones"
      ]
    },
    {
      "cell_type": "code",
      "execution_count": 14,
      "metadata": {},
      "outputs": [],
      "source": [
        "def plot_attention_in_board_embedded(attention_map, token_labels, fig, subplot_spec, by_row=True, use_divergent_cmap=False):\n",
        "    \"\"\"\n",
        "    attention_map: numpy array [79, 79]\n",
        "    token_labels: list of token strings\n",
        "    fig: Matplotlib figure\n",
        "    subplot_spec: GridSpec SubplotSpec to draw the board into\n",
        "    use_divergent_cmap: bool - whether to use a divergent colormap centered at 0\n",
        "    \"\"\"\n",
        "    gs = gridspec.GridSpecFromSubplotSpec(10, 8, subplot_spec=subplot_spec, wspace=0.5, hspace=0.5)\n",
        "    padded_attention_map = np.pad(attention_map, ((0, 1), (0, 1)), mode='constant', constant_values=0)\n",
        "    ordered_indices = np.concatenate([np.arange(2, 66), [0, 1], np.arange(66, 79)])\n",
        "    ordered_indices_padded = np.concatenate([ordered_indices, [79]])\n",
        "\n",
        "    ordered_token_labels = token_labels[ordered_indices]\n",
        "\n",
        "    for idx, i in enumerate(ordered_indices):\n",
        "        row = idx // 8\n",
        "        col = idx % 8\n",
        "        ax = fig.add_subplot(gs[row, col])\n",
        "        if by_row:\n",
        "            data = padded_attention_map[i, ordered_indices_padded].reshape(-1, 8)\n",
        "        else:\n",
        "            data = padded_attention_map[ordered_indices_padded, i].reshape(-1, 8)\n",
        "\n",
        "        if use_divergent_cmap:\n",
        "            im = ax.imshow(data, aspect='auto', cmap='seismic', vmin=-1, vmax=1)\n",
        "        else:\n",
        "            im = ax.imshow(data, aspect='auto', cmap='viridis')\n",
        "\n",
        "        ax.set_title(ordered_token_labels[idx], fontsize=6)\n",
        "        ax.set_xticks([])\n",
        "        ax.set_yticks([])\n",
        "\n",
        "    fig.add_subplot(gs[-1, -1]).axis('off')  # Oculta el subplot extra\n",
        "\n",
        "def plot_all_attention_heads(attention_maps, token_labels, by_row=True, save_path=None, use_divergent_cmap=False):\n",
        "    \"\"\"\n",
        "    attention_maps: numpy array of shape (4, 4, 79, 79)\n",
        "    token_labels: list of token strings\n",
        "    use_divergent_cmap: bool - whether to use a divergent colormap for all heatmaps\n",
        "    \"\"\"\n",
        "    num_layers, num_heads, _, _ = attention_maps.shape\n",
        "    fig = plt.figure(figsize=(num_heads * 10, num_layers * 10))\n",
        "    outer = gridspec.GridSpec(num_layers, num_heads, wspace=0.1, hspace=0.1)\n",
        "\n",
        "    for l in range(num_layers):\n",
        "        for h in range(num_heads):\n",
        "            attention_map = attention_maps[l, h]\n",
        "            subplot_spec = outer[l, h]\n",
        "            plot_attention_in_board_embedded(\n",
        "                attention_map,\n",
        "                token_labels,\n",
        "                fig,\n",
        "                subplot_spec,\n",
        "                by_row=by_row,\n",
        "                use_divergent_cmap=use_divergent_cmap\n",
        "            )\n",
        "            ax = fig.add_subplot(subplot_spec)\n",
        "            ax.set_title(f\"Capa {l+1}, Cabeza {h+1}\", fontsize=10)\n",
        "            ax.axis('off')\n",
        "\n",
        "    plt.tight_layout()\n",
        "    if save_path:\n",
        "        plt.savefig(save_path)\n",
        "        plt.close(fig)\n",
        "    else:\n",
        "        plt.show()\n"
      ]
    },
    {
      "cell_type": "markdown",
      "metadata": {},
      "source": [
        "### Experimento 1: Alteraciones en Pawn-Race"
      ]
    },
    {
      "cell_type": "code",
      "execution_count": 15,
      "metadata": {},
      "outputs": [],
      "source": [
        "board3 = chess.Board('1k6/8/8/8/8/8/7P/1K6 w - - 0 1')\n",
        "# Obtenemos los pares tablero-jugada tokenizados\n",
        "sequences_3 = get_sequences_from_board(board3)\n",
        "# Predecimos los logits y mapas de atención\n",
        "results_3 = predict_fn(sequences_3)\n",
        "logits_3 = np.array([log[:,-1,:] for log, att in results_3])\n",
        "attention_maps_3 = [att for log, att in results_3]\n",
        "attention_maps_3 = np.array(attention_maps_3).reshape(-1, num_layers, num_heads, 79, 79)\n",
        "# Calculamos las probabilidades de victoria de cada jugada\n",
        "sorted_legal_moves_3 = engine.get_ordered_legal_moves(board3)\n",
        "win_probs_3 = np.inner(np.exp(logits_3), return_buckets_values)\n",
        "win_probs_3 = win_probs_3.flatten()"
      ]
    },
    {
      "cell_type": "code",
      "execution_count": 16,
      "metadata": {},
      "outputs": [
        {
          "name": "stdout",
          "output_type": "stream",
          "text": [
            "  h2h4 -> 88.1%\n",
            "  h2h3 -> 50.4%\n",
            "  b1c2 -> 50.1%\n",
            "  b1a1 -> 50.1%\n",
            "  b1b2 -> 50.1%\n",
            "  b1c1 -> 50.0%\n",
            "  b1a2 -> 50.0%\n"
          ]
        }
      ],
      "source": [
        "ordered_indices_3 = np.argsort(win_probs_3)[::-1]\n",
        "for i in ordered_indices_3:\n",
        "    print(f'  {sorted_legal_moves_3[i].uci()} -> {100*win_probs_3[i]:.1f}%')"
      ]
    },
    {
      "cell_type": "markdown",
      "metadata": {},
      "source": [
        "#### Diferencia entre jugar h4 (buena) y h3 (mala)"
      ]
    },
    {
      "cell_type": "code",
      "execution_count": null,
      "metadata": {},
      "outputs": [],
      "source": [
        "attention_maps_3_h4 = attention_maps_3[ordered_indices_3[0]]\n",
        "attention_maps_3_h3 = attention_maps_3[ordered_indices_3[1]]\n",
        "diff_attention_map_3_h4_h3 = attention_maps_3_h4 - attention_maps_3_h3"
      ]
    },
    {
      "cell_type": "code",
      "execution_count": null,
      "metadata": {},
      "outputs": [
        {
          "name": "stderr",
          "output_type": "stream",
          "text": [
            "/tmp/ipykernel_1675696/1417204334.py:62: UserWarning: This figure includes Axes that are not compatible with tight_layout, so results might be incorrect.\n",
            "  plt.tight_layout()\n"
          ]
        }
      ],
      "source": [
        "plot_all_attention_heads(diff_attention_map_3_h4_h3, token_labels, by_row=True, use_divergent_cmap=True,\n",
        "                         save_path='xai/experiment3_batched/attention_comparatives/h4vsh3_row.png')"
      ]
    },
    {
      "cell_type": "code",
      "execution_count": null,
      "metadata": {},
      "outputs": [
        {
          "name": "stderr",
          "output_type": "stream",
          "text": [
            "/tmp/ipykernel_1675696/1417204334.py:62: UserWarning: This figure includes Axes that are not compatible with tight_layout, so results might be incorrect.\n",
            "  plt.tight_layout()\n"
          ]
        }
      ],
      "source": [
        "plot_all_attention_heads(diff_attention_map_3_h4_h3, token_labels, by_row=False, use_divergent_cmap=True,\n",
        "                         save_path='xai/experiment3_batched/attention_comparatives/h4vsh3_col.png')"
      ]
    },
    {
      "cell_type": "markdown",
      "metadata": {},
      "source": [
        "#### Diferencia entre jugar h4 (buena) y Kc2 (mala)"
      ]
    },
    {
      "cell_type": "code",
      "execution_count": null,
      "metadata": {},
      "outputs": [],
      "source": [
        "attention_maps_3_h4 = attention_maps_3[ordered_indices_3[0]]\n",
        "attention_maps_3_Kc2 = attention_maps_3[ordered_indices_3[2]]\n",
        "diff_attention_map_3_h4_Kc2 = attention_maps_3_h4 - attention_maps_3_Kc2"
      ]
    },
    {
      "cell_type": "code",
      "execution_count": null,
      "metadata": {},
      "outputs": [
        {
          "name": "stderr",
          "output_type": "stream",
          "text": [
            "/tmp/ipykernel_1675696/1417204334.py:62: UserWarning: This figure includes Axes that are not compatible with tight_layout, so results might be incorrect.\n",
            "  plt.tight_layout()\n"
          ]
        }
      ],
      "source": [
        "plot_all_attention_heads(diff_attention_map_3_h4_Kc2, token_labels, by_row=True, use_divergent_cmap=True,\n",
        "                         save_path='xai/experiment3_batched/attention_comparatives/h4vsKc3_row.png')"
      ]
    },
    {
      "cell_type": "code",
      "execution_count": null,
      "metadata": {},
      "outputs": [
        {
          "name": "stderr",
          "output_type": "stream",
          "text": [
            "/tmp/ipykernel_1675696/1417204334.py:62: UserWarning: This figure includes Axes that are not compatible with tight_layout, so results might be incorrect.\n",
            "  plt.tight_layout()\n"
          ]
        }
      ],
      "source": [
        "plot_all_attention_heads(diff_attention_map_3_h4_Kc2, token_labels, by_row=False, use_divergent_cmap=True,\n",
        "                         save_path='xai/experiment3_batched/attention_comparatives/h4vsKc3_col.png')"
      ]
    },
    {
      "cell_type": "markdown",
      "metadata": {},
      "source": [
        "#### Diferencia entre jugar h3 (mala) y Kc2 (mala)"
      ]
    },
    {
      "cell_type": "code",
      "execution_count": null,
      "metadata": {},
      "outputs": [],
      "source": [
        "attention_maps_3_h3 = attention_maps_3[ordered_indices_3[1]]\n",
        "attention_maps_3_Kc2 = attention_maps_3[ordered_indices_3[2]]\n",
        "diff_attention_map_3_h3_Kc2 = attention_maps_3_h3 - attention_maps_3_Kc2"
      ]
    },
    {
      "cell_type": "code",
      "execution_count": null,
      "metadata": {},
      "outputs": [
        {
          "name": "stderr",
          "output_type": "stream",
          "text": [
            "/tmp/ipykernel_1676201/1417204334.py:62: UserWarning: This figure includes Axes that are not compatible with tight_layout, so results might be incorrect.\n",
            "  plt.tight_layout()\n"
          ]
        }
      ],
      "source": [
        "plot_all_attention_heads(diff_attention_map_3_h3_Kc2, token_labels, by_row=True, use_divergent_cmap=True,\n",
        "                         save_path='xai/experiment3_batched/attention_comparatives/h3vsKc2_row.png')"
      ]
    },
    {
      "cell_type": "code",
      "execution_count": null,
      "metadata": {},
      "outputs": [
        {
          "name": "stderr",
          "output_type": "stream",
          "text": [
            "/tmp/ipykernel_1676201/1417204334.py:62: UserWarning: This figure includes Axes that are not compatible with tight_layout, so results might be incorrect.\n",
            "  plt.tight_layout()\n"
          ]
        }
      ],
      "source": [
        "plot_all_attention_heads(diff_attention_map_3_h3_Kc2, token_labels, by_row=False, use_divergent_cmap=True,\n",
        "                         save_path='xai/experiment3_batched/attention_comparatives/h3vsKc2_col.png')"
      ]
    },
    {
      "cell_type": "markdown",
      "metadata": {},
      "source": [
        "#### Tablero Alternativo 1: Mover el peon de h2 a g2"
      ]
    },
    {
      "cell_type": "code",
      "execution_count": 25,
      "metadata": {},
      "outputs": [],
      "source": [
        "board3_alt1 = chess.Board('1k6/8/8/8/8/8/6P1/1K6 w - - 0 1')\n",
        "# Obtenemos los pares tablero-jugada tokenizados\n",
        "sequences_3_alt1 = get_sequences_from_board(board3_alt1)\n",
        "# Predecimos los logits y mapas de atención\n",
        "results_3_alt1 = predict_fn(sequences_3_alt1)\n",
        "logits_3_alt1 = np.array([log[:,-1,:] for log, att in results_3_alt1])\n",
        "attention_maps_3_alt1 = [att for log, att in results_3_alt1]\n",
        "attention_maps_3_alt1 = np.array(attention_maps_3_alt1).reshape(-1, num_layers, num_heads, 79, 79)\n",
        "# Calculamos las probabilidades de victoria de cada jugada\n",
        "sorted_legal_moves_3_alt1 = engine.get_ordered_legal_moves(board3_alt1)\n",
        "win_probs_3_alt1 = np.inner(np.exp(logits_3_alt1), return_buckets_values)\n",
        "win_probs_3_alt1 = win_probs_3_alt1.flatten()"
      ]
    },
    {
      "cell_type": "code",
      "execution_count": 26,
      "metadata": {},
      "outputs": [
        {
          "name": "stdout",
          "output_type": "stream",
          "text": [
            "  b1c2 -> 70.1%\n",
            "  b1c1 -> 54.7%\n",
            "  b1b2 -> 54.5%\n",
            "  b1a2 -> 51.2%\n",
            "  b1a1 -> 50.7%\n",
            "  g2g3 -> 50.7%\n",
            "  g2g4 -> 50.4%\n"
          ]
        }
      ],
      "source": [
        "ordered_indices_3_alt1 = np.argsort(win_probs_3_alt1)[::-1]\n",
        "for i in ordered_indices_3_alt1:\n",
        "    print(f'  {sorted_legal_moves_3_alt1[i].uci()} -> {100*win_probs_3_alt1[i]:.1f}%')"
      ]
    },
    {
      "cell_type": "markdown",
      "metadata": {},
      "source": [
        "##### Comparativa Kc2"
      ]
    },
    {
      "cell_type": "code",
      "execution_count": 38,
      "metadata": {},
      "outputs": [],
      "source": [
        "attention_maps_3_Kc2_alt1 = attention_maps_3_alt1[ordered_indices_3_alt1[0]]\n",
        "attention_maps_3_Kc2 = attention_maps_3[ordered_indices_3[2]]\n",
        "diff_attention_map_3_Kc2_Kc2alt1 = attention_maps_3_Kc2 - attention_maps_3_Kc2_alt1"
      ]
    },
    {
      "cell_type": "code",
      "execution_count": 39,
      "metadata": {},
      "outputs": [
        {
          "name": "stderr",
          "output_type": "stream",
          "text": [
            "/tmp/ipykernel_1676201/1417204334.py:62: UserWarning: This figure includes Axes that are not compatible with tight_layout, so results might be incorrect.\n",
            "  plt.tight_layout()\n"
          ]
        }
      ],
      "source": [
        "plot_all_attention_heads(diff_attention_map_3_Kc2_Kc2alt1, token_labels, by_row=True, use_divergent_cmap=True,\n",
        "                         save_path='xai/experiment3_batched/attention_comparatives/Kc2vsKc2alt1_row.png')\n",
        "plot_all_attention_heads(diff_attention_map_3_Kc2_Kc2alt1, token_labels, by_row=False, use_divergent_cmap=True,\n",
        "                         save_path='xai/experiment3_batched/attention_comparatives/Kc2vsKc2alt1_col.png')"
      ]
    },
    {
      "cell_type": "markdown",
      "metadata": {},
      "source": [
        "#### Comparativa avance peones"
      ]
    },
    {
      "cell_type": "code",
      "execution_count": 40,
      "metadata": {},
      "outputs": [],
      "source": [
        "attention_maps_3_h4 = attention_maps_3[ordered_indices_3[0]]\n",
        "attention_maps_3_g4_alt1 = attention_maps_3_alt1[ordered_indices_3_alt1[-1]]\n",
        "diff_attention_map_3_h4_g4alt1 = attention_maps_3_h4 - attention_maps_3_g4_alt1"
      ]
    },
    {
      "cell_type": "code",
      "execution_count": 41,
      "metadata": {},
      "outputs": [
        {
          "name": "stderr",
          "output_type": "stream",
          "text": [
            "/tmp/ipykernel_1676201/1417204334.py:62: UserWarning: This figure includes Axes that are not compatible with tight_layout, so results might be incorrect.\n",
            "  plt.tight_layout()\n"
          ]
        }
      ],
      "source": [
        "plot_all_attention_heads(diff_attention_map_3_h4_g4alt1, token_labels, by_row=True, use_divergent_cmap=True,\n",
        "                         save_path='xai/experiment3_batched/attention_comparatives/h4vsg4alt1_row.png')\n",
        "plot_all_attention_heads(diff_attention_map_3_h4_g4alt1, token_labels, by_row=False, use_divergent_cmap=True,\n",
        "                         save_path='xai/experiment3_batched/attention_comparatives/h4vsg4alt1_col.png')"
      ]
    },
    {
      "cell_type": "markdown",
      "metadata": {},
      "source": [
        "#### Secuencia de avance del peón"
      ]
    },
    {
      "cell_type": "code",
      "execution_count": 17,
      "metadata": {},
      "outputs": [],
      "source": [
        "secuencia_movimientos = ['h2h4', 'b8c7', 'h4h5', 'c7d7', 'h5h6', 'd7e7', 'h6h7', 'e7f7', 'h7h8q']"
      ]
    },
    {
      "cell_type": "code",
      "execution_count": 33,
      "metadata": {},
      "outputs": [
        {
          "name": "stdout",
          "output_type": "stream",
          "text": [
            "1k6/8/8/8/7P/8/8/1K6 b - - 0 1\n",
            "8/2k5/8/8/7P/8/8/1K6 w - - 1 2\n",
            "8/2k5/8/7P/8/8/8/1K6 b - - 0 2\n",
            "8/3k4/8/7P/8/8/8/1K6 w - - 1 3\n",
            "8/3k4/7P/8/8/8/8/1K6 b - - 0 3\n",
            "8/4k3/7P/8/8/8/8/1K6 w - - 1 4\n",
            "8/4k2P/8/8/8/8/8/1K6 b - - 0 4\n",
            "8/5k1P/8/8/8/8/8/1K6 w - - 1 5\n",
            "7Q/5k2/8/8/8/8/8/1K6 b - - 0 5\n"
          ]
        }
      ],
      "source": [
        "board3_avance = board3.copy()\n",
        "logits_3_avance = []\n",
        "attention_maps_3_avance = []\n",
        "\n",
        "for move in secuencia_movimientos:\n",
        "    \n",
        "    sequences_3_avance = get_sequences_from_board(board3_avance)\n",
        "    results_3_avance_i = predict_fn(sequences_3_avance)\n",
        "    logits_3_avance_i = np.array([log[:,-1,:] for log, att in results_3_avance_i])\n",
        "    attention_maps_3_avance_i = [att for log, att in results_3_avance_i]\n",
        "    attention_maps_3_avance_i = np.array(attention_maps_3_avance_i).reshape(-1, num_layers, num_heads, 79, 79)\n",
        "    \n",
        "    logits_3_avance.append(logits_3_avance_i)\n",
        "    attention_maps_3_avance.append(attention_maps_3_avance_i[engine.get_ordered_legal_moves(board3_avance)\n",
        "                                                                 .index(chess.Move.from_uci(move))])\n",
        "    \n",
        "    board3_avance.push(chess.Move.from_uci(move))\n",
        "    print(board3_avance.fen())"
      ]
    },
    {
      "cell_type": "code",
      "execution_count": null,
      "metadata": {},
      "outputs": [
        {
          "name": "stdout",
          "output_type": "stream",
          "text": [
            "Movimiento: h2h4\n",
            "Logits shape: (7, 1, 128)\n",
            "Attention maps shape: (8, 8, 79, 79)\n"
          ]
        },
        {
          "name": "stderr",
          "output_type": "stream",
          "text": [
            "/tmp/ipykernel_1684133/1417204334.py:62: UserWarning: This figure includes Axes that are not compatible with tight_layout, so results might be incorrect.\n",
            "  plt.tight_layout()\n"
          ]
        }
      ],
      "source": [
        "for move, logits, attention_maps in zip(secuencia_movimientos, logits_3_avance, attention_maps_3_avance):\n",
        "    print(f'Movimiento: {move}')\n",
        "    print('Logits shape:', logits.shape)\n",
        "    print('Attention maps shape:', attention_maps.shape)\n",
        "    \n",
        "    plot_all_attention_heads(attention_maps, token_labels, by_row=True, use_divergent_cmap=True,\n",
        "                             save_path=f'xai/experiment3_batched/secuencia_avance/attention/{move}-row.png')\n",
        "    \n",
        "    plot_all_attention_heads(attention_maps, token_labels, by_row=False, use_divergent_cmap=True,\n",
        "                             save_path=f'xai/experiment3_batched/secuencia_avance/attention/{move}-col.png')\n",
        "    break"
      ]
    },
    {
      "cell_type": "markdown",
      "metadata": {},
      "source": [
        "#### Peon negro en h"
      ]
    },
    {
      "cell_type": "code",
      "execution_count": null,
      "metadata": {},
      "outputs": [],
      "source": []
    }
  ],
  "metadata": {
    "colab": {
      "last_runtime": {
        "build_target": "//third_party/deepmind/searchless_chess/src:searchless_chess",
        "kind": "private"
      },
      "private_outputs": true,
      "provenance": []
    },
    "kernelspec": {
      "display_name": "Python 3 (ipykernel)",
      "language": "python",
      "name": "python3"
    },
    "language_info": {
      "codemirror_mode": {
        "name": "ipython",
        "version": 3
      },
      "file_extension": ".py",
      "mimetype": "text/x-python",
      "name": "python",
      "nbconvert_exporter": "python",
      "pygments_lexer": "ipython3",
      "version": "3.10.16"
    }
  },
  "nbformat": 4,
  "nbformat_minor": 0
}
